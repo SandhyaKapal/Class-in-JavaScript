{
  "nbformat": 4,
  "nbformat_minor": 0,
  "metadata": {
    "colab": {
      "provenance": []
    },
    "kernelspec": {
      "name": "python3",
      "display_name": "Python 3"
    },
    "language_info": {
      "name": "python"
    }
  },
  "cells": [
    {
      "cell_type": "code",
      "execution_count": null,
      "metadata": {
        "id": "69QesZQv_qv6"
      },
      "outputs": [],
      "source": []
    },
    {
      "cell_type": "markdown",
      "source": [
        "TASK 1\n",
        "\n",
        "Problem Statement 1: Create a Constructor for a Person\n",
        "\n",
        "Write a JavaScript function constructor named Person that takes two parameters, name, and age, and Add a\n",
        "method to the prototype to display name and age. Then, create two instances of Person and display their\n",
        "names and ages."
      ],
      "metadata": {
        "id": "RI5v58UW_xen"
      }
    },
    {
      "cell_type": "code",
      "source": [
        "// Constructor Function\n",
        "function Person(name, age) {\n",
        "  this.name = name;\n",
        "  this.age = age;\n",
        "}\n",
        "\n",
        "// Adding a method to Person's prototype\n",
        "Person.prototype.displayInfo = function() {\n",
        "  console.log(`Name: ${this.name}, Age: ${this.age}`);\n",
        "};\n",
        "\n",
        "// Creating two instances of Person\n",
        "const person1 = new Person(\"Alice\", 25);\n",
        "const person2 = new Person(\"Bob\", 30);\n",
        "\n",
        "// Displaying their names and ages\n",
        "person1.displayInfo(); // Output: Name: Alice, Age: 25\n",
        "person2.displayInfo(); // Output: Name: Bob, Age: 30\n"
      ],
      "metadata": {
        "id": "6yFbb06x_9D8"
      },
      "execution_count": null,
      "outputs": []
    },
    {
      "cell_type": "markdown",
      "source": [
        "TASK 2\n",
        "\n",
        "Problem Statement 2: Implement a Bank Account\n",
        "\n",
        "Create a constructor function named BankAccount that initializes a bank account with an initial balance.\n",
        "Include methods for depositing and withdrawing money from the account. Write code to demonstrate these\n",
        "operations on a bank account object."
      ],
      "metadata": {
        "id": "VD3skAqO_-NB"
      }
    },
    {
      "cell_type": "code",
      "source": [
        "// Constructor Function\n",
        "function BankAccount(initialBalance) {\n",
        "  this.balance = initialBalance;\n",
        "}\n",
        "\n",
        "// Deposit Method\n",
        "BankAccount.prototype.deposit = function(amount) {\n",
        "  if (amount > 0) {\n",
        "    this.balance += amount;\n",
        "    console.log(`Deposited: ₹${amount}. Current Balance: ₹${this.balance}`);\n",
        "  } else {\n",
        "    console.log(\"Deposit amount must be positive.\");\n",
        "  }\n",
        "};\n",
        "\n",
        "// Withdraw Method\n",
        "BankAccount.prototype.withdraw = function(amount) {\n",
        "  if (amount <= this.balance && amount > 0) {\n",
        "    this.balance -= amount;\n",
        "    console.log(`Withdrew: ₹${amount}. Current Balance: ₹${this.balance}`);\n",
        "  } else if (amount > this.balance) {\n",
        "    console.log(\"Insufficient funds.\");\n",
        "  } else {\n",
        "    console.log(\"Withdrawal amount must be positive.\");\n",
        "  }\n",
        "};\n",
        "\n",
        "// Demonstration\n",
        "const myAccount = new BankAccount(5000); // Opening balance ₹5000\n",
        "\n",
        "myAccount.deposit(1500);  // Deposited: ₹1500. Current Balance: ₹6500\n",
        "myAccount.withdraw(2000); // Withdrew: ₹2000. Current Balance: ₹4500\n",
        "myAccount.withdraw(7000); // Insufficient funds\n"
      ],
      "metadata": {
        "id": "fkydsjMAADXx"
      },
      "execution_count": null,
      "outputs": []
    },
    {
      "cell_type": "markdown",
      "source": [
        "TASK 3\n",
        "\n",
        "Problem Statement 3: Create a Constructor for a Book\n",
        "\n",
        "Design a constructor function called Book that takes title and author as parameters. Add a method to the\n",
        "prototype of the Book that displays the book's information. Create at least two book instances and display their\n",
        "\n",
        "information."
      ],
      "metadata": {
        "id": "f4_3hyjaANxj"
      }
    },
    {
      "cell_type": "code",
      "source": [
        "// Constructor Function\n",
        "function Book(title, author) {\n",
        "  this.title = title;\n",
        "  this.author = author;\n",
        "}\n",
        "\n",
        "// Adding a method to the prototype\n",
        "Book.prototype.displayInfo = function() {\n",
        "  console.log(`Titl// Constructor Function\n",
        "function Book(title, author) {\n",
        "  this.title = title;\n",
        "  this.author = author;\n",
        "}\n",
        "\n",
        "// Adding a method to the prototype\n",
        "Book.prototype.displayInfo = function() {\n",
        "  console.log(`Title: \"${this.title}\", Author: ${this.author}`);\n",
        "};\n",
        "\n",
        "// Creating book instances\n",
        "const book1 = new Book(\"The Great Gatsby\", \"F. Scott Fitzgerald\");\n",
        "const book2 = new Book(\"To Kill a Mockingbird\", \"Harper Lee\");\n",
        "\n",
        "// Displaying book information\n",
        "book1.displayInfo(); // Title: \"The Great Gatsby\", Author: F. Scott Fitzgerald\n",
        "book2.displayInfo(); // Title: \"To Kill a Mockingbird\", Author: Harper Lee\n",
        "// Constructor Function\n",
        "function Book(title, author) {\n",
        "  this.title = title;\n",
        "  this.author = author;\n",
        "}\n",
        "\n",
        "// Adding a method to the prototype\n",
        "Book.prototype.displayInfo = function() {\n",
        "  console.log(`Title: \"${this.title}\", Author: ${this.author}`);\n",
        "};\n",
        "\n",
        "// Creating book instances\n",
        "const book1 = new Book(\"The Great Gatsby\", \"F. Scott Fitzgerald\");\n",
        "const book2 = new Book(\"To Kill a Mockingbird\", \"Harper Lee\");\n",
        "\n",
        "// Displaying book information\n",
        "book1.displayInfo(); // Title: \"The Great Gatsby\", Author: F. Scott Fitzgerald\n",
        "book2.displayInfo(); // Title: \"To Kill a Mockingbird\", Author: Harper Lee\n",
        "e: \"${this.title}\", Author: ${this.author}`);\n",
        "};\n",
        "\n",
        "// Creating book instances\n",
        "const book1 = new Book(\"The Great Gatsby\", \"F. Scott Fitzgerald\");\n",
        "const book2 = new Book(\"To Kill a Mockingbird\", \"Harper Lee\");\n",
        "\n",
        "// Displaying book information\n",
        "book1.displayInfo(); // Title: \"The Great Gatsby\", Author: F. Scott Fitzgerald\n",
        "book2.displayInfo(); // Title: \"To Kill a Mockingbird\", Author: Harper Lee\n"
      ],
      "metadata": {
        "id": "uvp0SQJHAQ9n"
      },
      "execution_count": null,
      "outputs": []
    },
    {
      "cell_type": "markdown",
      "source": [
        "TASK 4\n",
        "\n",
        "Problem Statement 4: Implement Task 1 using Class.\n",
        "\n",
        "Design a JavaScript class called Person with properties for name and age. Implement a method to display the\n",
        "person's name and age. Then, create instances of Person and display their information."
      ],
      "metadata": {
        "id": "kVC4fuUrAuK4"
      }
    },
    {
      "cell_type": "code",
      "source": [
        "// Defining the Person class\n",
        "class Person {\n",
        "  constructor(name, age) {\n",
        "    this.name = name;\n",
        "    this.age = age;\n",
        "  }\n",
        "\n",
        "  // Method to display name and age\n",
        "  displayInfo() {\n",
        "    console.log(`Name: ${this.name}, Age: ${this.age}`);\n",
        "  }\n",
        "}\n",
        "\n",
        "// Creating instances of Person\n",
        "const person1 = new Person(\"Alice\", 25);\n",
        "const person2 = new Person(\"Bob\", 30);\n",
        "\n",
        "// Displaying their information\n",
        "person1.displayInfo(); // Output: Name: Alice, Age: 25\n",
        "person2.displayInfo(); // Output: Name: Bob, Age: 30\n"
      ],
      "metadata": {
        "id": "ST8UekwmBdMf"
      },
      "execution_count": null,
      "outputs": []
    },
    {
      "cell_type": "markdown",
      "source": [
        "TASK 5\n",
        "\n",
        "Problem Statement 5: Implement a Calculator Class\n",
        "\n",
        "Create a class called Calculator that initializes two values value1 and value2 to store"
      ],
      "metadata": {
        "id": "d6bmi7OeBm0E"
      }
    },
    {
      "cell_type": "code",
      "source": [
        "\n",
        "class Calculator {\n",
        "  constructor(value1, value2) {\n",
        "    this.value1 = value1;\n",
        "    this.value2 = value2;\n",
        "  }\n",
        "\n",
        "  // Addition\n",
        "  add() {\n",
        "    return this.value1 + this.value2;\n",
        "  }\n",
        "\n",
        "  // Subtraction\n",
        "  subtract() {\n",
        "    return this.value1 - this.value2;\n",
        "  }\n",
        "\n",
        "  // Multiplication\n",
        "  multiply() {\n",
        "    return this.value1 * this.value2;\n",
        "  }\n",
        "\n",
        "  // Division\n",
        "  divide() {\n",
        "    if (this.value2 !== 0) {\n",
        "      return this.value1 / this.value2;\n",
        "    } else {\n",
        "      return \"Error: Division by zero\";\n",
        "    }\n",
        "  }\n",
        "}\n",
        "\n",
        "// Demonstration\n",
        "const calc1 = new Calculator(20, 5);\n",
        "\n",
        "console.log(\"Addition:\", calc1.add());         // 25\n",
        "console.log(\"Subtraction:\", calc1.subtract()); // 15\n",
        "console.log(\"Multiplication:\", calc1.multiply()); // 100\n",
        "console.log(\"Division:\", calc1.divide());         // 4\n"
      ],
      "metadata": {
        "id": "fp0n1WThBzEu"
      },
      "execution_count": null,
      "outputs": []
    },
    {
      "cell_type": "markdown",
      "source": [
        "TASK 6\n",
        "\n",
        "Problem Statement 6: Design a Class for a Geometric Shape\n",
        "\n",
        "Design a class called Shape that can represent various geometric shapes. Implement subclasses for specific\n",
        "shapes like Circle, Rectangle, and RightTriangle. Each subclass should have properties of that shape (e.g..\n",
        "Width, height for a rectangle) and methods for calculating the area and perimeter of the shape. Create\n",
        "instances of these shapes and calculate their areas and perimeters."
      ],
      "metadata": {
        "id": "actiEW87CM-W"
      }
    },
    {
      "cell_type": "code",
      "source": [
        "// Base class Shape\n",
        "class Shape {\n",
        "  constructor(name) {\n",
        "    this.name = name;\n",
        "  }\n",
        "\n",
        "  area() {\n",
        "    return 0;\n",
        "  }\n",
        "\n",
        "  perimeter() {\n",
        "    return 0;\n",
        "  }\n",
        "}\n",
        "\n",
        "// Circle subclass\n",
        "class Circle extends Shape {\n",
        "  constructor(radius) {\n",
        "    super(\"Circle\");\n",
        "    this.radius = radius;\n",
        "  }\n",
        "\n",
        "  area() {\n",
        "    return Math.PI * this.radius ** 2;\n",
        "  }\n",
        "\n",
        "  perimeter() {\n",
        "    return 2 * Math.PI * this.radius;\n",
        "  }\n",
        "}\n",
        "\n",
        "// Rectangle subclass\n",
        "class Rectangle extends Shape {\n",
        "  constructor(width, height) {\n",
        "    super(\"Rectangle\");\n",
        "    this.width = width;\n",
        "    this.height = height;\n",
        "  }\n",
        "\n",
        "  area() {\n",
        "    return this.width * this.height;\n",
        "  }\n",
        "\n",
        "  perimeter() {\n",
        "    return 2 * (this.width + this.height);\n",
        "  }\n",
        "}\n",
        "\n",
        "// RightTriangle subclass\n",
        "class RightTriangle extends Shape {\n",
        "  constructor(base, height) {\n",
        "    super(\"Right Triangle\");\n",
        "    this.base = base;\n",
        "    this.height = height;\n",
        "  }\n",
        "\n",
        "  area() {\n",
        "    return 0.5 * this.base * this.height;\n",
        "  }\n",
        "\n",
        "  perimeter() {\n",
        "    const hypotenuse = Math.sqrt(this.base ** 2 + this.height ** 2);\n",
        "    return this.base + this.height + hypotenuse;\n",
        "  }\n",
        "}\n",
        "\n",
        "// Demonstration\n",
        "const circle = new Circle(5);\n",
        "console.log(`${circle.name} Area: ${circle.area().toFixed(2)}, Perimeter: ${circle.perimeter().toFixed(2)}`);\n",
        "\n",
        "const rectangle = new Rectangle(4, 7);\n",
        "console.log(`${rectangle.name} Area: ${rectangle.area()}, Perimeter: ${rectangle.perimeter()}`);\n",
        "\n",
        "const triangle = new RightTriangle(3, 4);\n",
        "console.log(`${triangle.name} Area: ${triangle.area()}, Perimeter: ${triangle.perimeter().toFixed(2)}`);\n"
      ],
      "metadata": {
        "id": "UOChDiVRCOAC"
      },
      "execution_count": null,
      "outputs": []
    },
    {
      "cell_type": "markdown",
      "source": [
        "TASK 7\n",
        "\n",
        "Problem Statement 7: Implement a Library System\n",
        "\n",
        "Create a class called Library that can manage a collection of books. Each book should be represented as an\n",
        "instance of a Book class (with properties like title, author, and availability). Implement methods in the Library\n",
        "class to add books, check out books, and return books. Keep track of the books available."
      ],
      "metadata": {
        "id": "_R0pwoftFIBO"
      }
    },
    {
      "cell_type": "code",
      "source": [
        "// Book class\n",
        "class Book {\n",
        "  constructor(title, author) {\n",
        "    this.title = title;\n",
        "    this.author = author;\n",
        "    this.isAvailable = true; // By default, the book is available\n",
        "  }\n",
        "\n",
        "  // Display book info\n",
        "  displayInfo() {\n",
        "    console.log(`Title: \"${this.title}\", Author: ${this.author}, Available: ${this.isAvailable}`);\n",
        "  }\n",
        "}\n",
        "\n",
        "// Library class\n",
        "class Library {\n",
        "  constructor() {\n",
        "    this.books = []; // Array to store Book instances\n",
        "  }\n",
        "\n",
        "  // Add a book to the library\n",
        "  addBook(book) {\n",
        "    this.books.push(book);\n",
        "    console.log(`Added: \"${book.title}\" by ${book.author}`);\n",
        "  }\n",
        "\n",
        "  // Check out a book\n",
        "  checkOutBook(title) {\n",
        "    const book = this.books.find(b => b.title === title);\n",
        "    if (book) {\n",
        "      if (book.isAvailable) {\n",
        "        book.isAvailable = false;\n",
        "        console.log(`Checked out: \"${book.title}\"`);\n",
        "      } else {\n",
        "        console.log(`Sorry, \"${book.title}\" is already checked out.`);\n",
        "      }\n",
        "    }\n"
      ],
      "metadata": {
        "id": "tSjh7t9wFJKS"
      },
      "execution_count": null,
      "outputs": []
    }
  ]
}